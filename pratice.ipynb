{
 "cells": [
  {
   "cell_type": "code",
   "execution_count": 10,
   "metadata": {},
   "outputs": [
    {
     "name": "stdout",
     "output_type": "stream",
     "text": [
      "{'name': 'vincent', 'age': '12', 'class': 'pry 5'}\n",
      "<class 'dict'>\n",
      "{'name': 'vincent', 'age': '12', 'class': 'pry 5'}\n",
      "{'name': 'vincent', 'age': '12', 'class': 'pry 5'}\n",
      "{'name': 'vincent', 'age': '12', 'class': 'pry 4'}\n"
     ]
    }
   ],
   "source": [
    "student={\"name\":\"vincent\",\"age\":\"12\",\"class\":\"pry 5\"}\n",
    "print(student)\n",
    "print(type(student))\n",
    "student_copy1=student\n",
    "print(student_copy1)\n",
    "student_copy2=student.copy()\n",
    "student[\"class\"]=\"pry 4\"\n",
    "print(student_copy2)\n",
    "print(student)"
   ]
  }
 ],
 "metadata": {
  "kernelspec": {
   "display_name": "Python 3",
   "language": "python",
   "name": "python3"
  },
  "language_info": {
   "codemirror_mode": {
    "name": "ipython",
    "version": 3
   },
   "file_extension": ".py",
   "mimetype": "text/x-python",
   "name": "python",
   "nbconvert_exporter": "python",
   "pygments_lexer": "ipython3",
   "version": "3.12.0"
  }
 },
 "nbformat": 4,
 "nbformat_minor": 2
}
